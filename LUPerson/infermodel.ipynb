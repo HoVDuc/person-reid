{
 "cells": [
  {
   "cell_type": "code",
   "execution_count": 1,
   "metadata": {},
   "outputs": [
    {
     "name": "stdout",
     "output_type": "stream",
     "text": [
      "/home/hoduc/Github/person-reid/LUPerson/fast-reid\n"
     ]
    }
   ],
   "source": [
    "%cd fast-reid"
   ]
  },
  {
   "cell_type": "code",
   "execution_count": null,
   "metadata": {},
   "outputs": [],
   "source": [
    "DATASET=market\n",
    "PATH_TO_CHECKPOINT_FILE='your_finetuned_model_dir/market.pth'\n",
    "!python tools/train_net.py --eval-only \\\n",
    "    --config-file ./configs/CMDM/mgn_R50_moco.yml \\\n",
    "    DATASETS.ROOT \"datasets\" DATASETS.KWARGS \"data_name:${DATASET} \\\n",
    "    MODEL.WEIGHTS ${PATH_TO_CHECKPOINT_FILE} MODEL.DEVICE \"cuda:0\" \\\n",
    "    OUTPUT_DIR \"logs/lup_moco/test/${DATASET}\""
   ]
  }
 ],
 "metadata": {
  "kernelspec": {
   "display_name": "person-reid",
   "language": "python",
   "name": "python3"
  },
  "language_info": {
   "codemirror_mode": {
    "name": "ipython",
    "version": 3
   },
   "file_extension": ".py",
   "mimetype": "text/x-python",
   "name": "python",
   "nbconvert_exporter": "python",
   "pygments_lexer": "ipython3",
   "version": "3.9.18"
  }
 },
 "nbformat": 4,
 "nbformat_minor": 2
}
